{
 "cells": [
  {
   "cell_type": "code",
   "execution_count": 1,
   "metadata": {
    "autoscroll": false,
    "collapsed": false,
    "ein.tags": "worksheet-0",
    "slideshow": {
     "slide_type": "-"
    }
   },
   "outputs": [],
   "source": [
    "import re\n",
    "import os\n"
   ]
  },
  {
   "cell_type": "code",
   "execution_count": 27,
   "metadata": {
    "autoscroll": false,
    "collapsed": false,
    "ein.tags": "worksheet-0",
    "slideshow": {
     "slide_type": "-"
    }
   },
   "outputs": [],
   "source": [
    "cpp_regex = re.compile(\".*\\.(cc|hh)$\")\n",
    "cpp_files = []\n",
    "for folder, dir_list, file_list in os.walk(\"..\"):\n",
    "    cpp_files += [os.path.join(folder, f) for f in file_list if cpp_regex.match(f)]"
   ]
  },
  {
   "cell_type": "code",
   "execution_count": 33,
   "metadata": {
    "autoscroll": false,
    "collapsed": false,
    "ein.tags": "worksheet-0",
    "slideshow": {
     "slide_type": "-"
    }
   },
   "outputs": [
    {
     "name": "stdout",
     "output_type": "stream",
     "text": [
      "re-editing file '../src/solver/solver_cg_eigen.cc'\n",
      "re-editing file '../tests/test_tensor_algebra.cc'\n",
      "re-editing file '../tests/test_field_collections_3.cc'\n",
      "re-editing file '../tests/test_solver_newton_cg.cc'\n",
      "re-editing file '../tests/test_base.cc'\n",
      "re-editing file '../tests/test_fields.cc'\n",
      "re-editing file '../tests/test_field_collections_header.hh'\n",
      "re-editing file '../tests/tests.hh'\n",
      "re-editing file '../tests/test_materials_toolbox.cc'\n",
      "re-editing file '../tests/test_ccoord_operations.cc'\n",
      "re-editing file '../tests/test_material_hyper_elastic1.cc'\n",
      "re-editing file '../tests/test_t4_map.cc'\n",
      "re-editing file '../tests/test_projection_finite.cc'\n",
      "re-editing file '../tests/test_system_base.cc'\n",
      "re-editing file '../tests/test_field_collections.cc'\n",
      "re-editing file '../tests/test_field_collections_2.cc'\n",
      "re-editing file '../tests/main_test_suite.cc'\n",
      "re-editing file '../tests/test_projection.hh'\n",
      "re-editing file '../tests/test_fftw_engine.cc'\n",
      "re-editing file '../tests/test_projection_small.cc'\n",
      "re-editing file '../tests/test_fft_utils.cc'\n"
     ]
    }
   ],
   "source": [
    "regex = re.compile(\"^ \\*\\n^ \\* @section LICEN.E\\n(.*)\", re.MULTILINE)\n",
    "for file in cpp_files:\n",
    "    with open(file, 'r') as fh:\n",
    "        content = \"\".join(fh)\n",
    "    if regex.search(content):\n",
    "        print(\"re-editing file '{}'\".format(file))\n",
    "        with open(file, 'w') as fh:\n",
    "            print(regex.sub(r\"\\1\", content), file=fh, end='')"
   ]
  },
  {
   "cell_type": "code",
   "execution_count": null,
   "metadata": {
    "autoscroll": false,
    "collapsed": false,
    "ein.tags": "worksheet-0",
    "slideshow": {
     "slide_type": "-"
    }
   },
   "outputs": [],
   "source": []
  }
 ],
 "metadata": {
  "kernelspec": {
   "display_name": "Python 3",
   "name": "python3"
  },
  "name": "Untitled.ipynb"
 },
 "nbformat": 4,
 "nbformat_minor": 2
}
